{
 "cells": [
  {
   "cell_type": "markdown",
   "id": "9c7827ee-d509-4c89-9d51-37c4ed276d9d",
   "metadata": {},
   "source": [
    "# Práctica 1"
   ]
  },
  {
   "cell_type": "markdown",
   "id": "e7ff40cc-df2a-4d74-9883-95665d7987f0",
   "metadata": {},
   "source": [
    "## 3) Probando codigo en python"
   ]
  },
  {
   "cell_type": "code",
   "execution_count": 22,
   "id": "6e971095-7004-46b7-8ee0-8e78cfd9d39c",
   "metadata": {},
   "outputs": [
    {
     "name": "stdout",
     "output_type": "stream",
     "text": [
      "b =  8\n"
     ]
    }
   ],
   "source": [
    "import numpy as np\n",
    "\n",
    "1 + 3\n",
    "a = 7\n",
    "b = a + 1\n",
    "print ( \"b = \" , b)"
   ]
  },
  {
   "cell_type": "code",
   "execution_count": 24,
   "id": "7a64fdf8-3bae-4152-8781-b0c980690dde",
   "metadata": {},
   "outputs": [
    {
     "name": "stdout",
     "output_type": "stream",
     "text": [
      "v + w =  [3 5 3 4]\n",
      "2∗v =  [ 2  4  6 -2]\n",
      "v∗∗2 =  [1 4 9 1]\n"
     ]
    }
   ],
   "source": [
    "# Vectores\n",
    "v = np.array ( [ 1 , 2 , 3 , -1 ] )\n",
    "w = np.array ( [ 2 , 3 , 0 , 5 ] )\n",
    "print ( \"v + w = \" , v + w)\n",
    "print ( \"2∗v = \" , 2*v )\n",
    "print ( \"v∗∗2 = \" , v **2)"
   ]
  },
  {
   "cell_type": "code",
   "execution_count": 32,
   "id": "173cd1bc-cc53-4c11-8203-8c1297d372e3",
   "metadata": {},
   "outputs": [
    {
     "name": "stdout",
     "output_type": "stream",
     "text": [
      "[[1 2 3 4 5]\n",
      " [0 1 2 3 4]\n",
      " [2 3 4 5 6]\n",
      " [0 0 1 2 3]\n",
      " [0 0 0 0 1]]\n"
     ]
    }
   ],
   "source": [
    "# Matrices (ejecutar los comandos uno a uno para ver los resultados)\n",
    "A = np.array ( [ [ 1 , 2 , 3 , 4 , 5 ] , [ 0 , 1 , 2 , 3 , 4 ] , [ 2 , 3 , 4 , 5 , 6 ] , [ 0 , 0 , 1 , 2 , 3 ] , [ 0 , 0 , 0 , 0 , 1 ] ] )\n",
    "print(A)"
   ]
  },
  {
   "cell_type": "code",
   "execution_count": 34,
   "id": "549ba507-91c9-4463-9c46-4bde73cd6dd1",
   "metadata": {},
   "outputs": [
    {
     "data": {
      "text/plain": [
       "array([[4, 5],\n",
       "       [3, 4]])"
      ]
     },
     "execution_count": 34,
     "metadata": {},
     "output_type": "execute_result"
    }
   ],
   "source": [
    "A[ 0 : 2 , 3 : 5 ]"
   ]
  },
  {
   "cell_type": "code",
   "execution_count": 36,
   "id": "a223147e-7e5e-47ea-a1ec-aa5460d64dc3",
   "metadata": {},
   "outputs": [
    {
     "data": {
      "text/plain": [
       "array([[4, 5],\n",
       "       [3, 4]])"
      ]
     },
     "execution_count": 36,
     "metadata": {},
     "output_type": "execute_result"
    }
   ],
   "source": [
    "A[ : 2 , 3 : ]"
   ]
  },
  {
   "cell_type": "code",
   "execution_count": 38,
   "id": "f02adf6c-2c2b-48bc-87cf-a4652416f4ae",
   "metadata": {},
   "outputs": [
    {
     "data": {
      "text/plain": [
       "array([[1, 2, 3, 4, 5],\n",
       "       [2, 3, 4, 5, 6],\n",
       "       [0, 0, 0, 0, 1]])"
      ]
     },
     "execution_count": 38,
     "metadata": {},
     "output_type": "execute_result"
    }
   ],
   "source": [
    "A[ [ 0 , 2 , 4 ] , : ]"
   ]
  },
  {
   "cell_type": "code",
   "execution_count": 40,
   "id": "3f9570f1-b8ed-447f-b63b-178036ce5ce0",
   "metadata": {},
   "outputs": [],
   "source": [
    "ind = np.array ( [ 0 , 2 , 4 ] )"
   ]
  },
  {
   "cell_type": "code",
   "execution_count": 42,
   "id": "00992ff6-bcc5-4f74-8b7c-7dd529e6abdf",
   "metadata": {},
   "outputs": [
    {
     "data": {
      "text/plain": [
       "array([1, 4, 1])"
      ]
     },
     "execution_count": 42,
     "metadata": {},
     "output_type": "execute_result"
    }
   ],
   "source": [
    "A[ ind , ind ]"
   ]
  },
  {
   "cell_type": "code",
   "execution_count": 44,
   "id": "a4734e41-3c01-4cfe-80c6-0e4249c46e9e",
   "metadata": {},
   "outputs": [
    {
     "data": {
      "text/plain": [
       "array([[1, 2, 0],\n",
       "       [3, 4, 0],\n",
       "       [5, 6, 1]])"
      ]
     },
     "execution_count": 44,
     "metadata": {},
     "output_type": "execute_result"
    }
   ],
   "source": [
    "A[ ind , ind [ : , None ] ]"
   ]
  },
  {
   "cell_type": "code",
   "execution_count": 54,
   "id": "3a0f39bb-1e3c-48ba-a744-15b4c76ae93b",
   "metadata": {},
   "outputs": [
    {
     "data": {
      "text/plain": [
       "(-1+0j)"
      ]
     },
     "execution_count": 54,
     "metadata": {},
     "output_type": "execute_result"
    }
   ],
   "source": [
    "# Numeros complejos\n",
    "1j *1j"
   ]
  },
  {
   "cell_type": "code",
   "execution_count": 1,
   "id": "b19e4947-f7d1-46c8-bed0-56c2a1951be2",
   "metadata": {},
   "outputs": [
    {
     "data": {
      "text/plain": [
       "(-2+1j)"
      ]
     },
     "execution_count": 1,
     "metadata": {},
     "output_type": "execute_result"
    }
   ],
   "source": [
    "(1+2j)*1j"
   ]
  },
  {
   "cell_type": "code",
   "execution_count": null,
   "id": "0cf1c4fb-2488-4d86-9492-4d496edc219f",
   "metadata": {},
   "outputs": [],
   "source": []
  }
 ],
 "metadata": {
  "kernelspec": {
   "display_name": "Python [conda env:base] *",
   "language": "python",
   "name": "conda-base-py"
  },
  "language_info": {
   "codemirror_mode": {
    "name": "ipython",
    "version": 3
   },
   "file_extension": ".py",
   "mimetype": "text/x-python",
   "name": "python",
   "nbconvert_exporter": "python",
   "pygments_lexer": "ipython3",
   "version": "3.12.7"
  }
 },
 "nbformat": 4,
 "nbformat_minor": 5
}
